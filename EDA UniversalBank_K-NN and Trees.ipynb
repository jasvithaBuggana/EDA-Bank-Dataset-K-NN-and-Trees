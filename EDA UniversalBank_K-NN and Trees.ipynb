{
 "cells": [
  {
   "cell_type": "markdown",
   "id": "9bd9a167",
   "metadata": {},
   "source": [
    "## question 1 starts "
   ]
  },
  {
   "cell_type": "code",
   "execution_count": 1,
   "id": "e2b48265",
   "metadata": {},
   "outputs": [],
   "source": [
    "%matplotlib inline\n",
    "\n",
    "from pathlib import Path\n",
    "\n",
    "import pandas as pd\n",
    "import numpy as np\n",
    "from sklearn.tree import DecisionTreeClassifier, DecisionTreeRegressor\n",
    "from sklearn.ensemble import RandomForestClassifier, GradientBoostingClassifier\n",
    "#from sklearn.model_selection import train_test_split, cross_val_score, GridSearchCV\n",
    "import matplotlib.pylab as plt\n",
    "import seaborn as sns\n",
    "import dmba\n",
    "from dmba import plotDecisionTree, classificationSummary, regressionSummary\n",
    "from sklearn import preprocessing\n",
    "from sklearn.model_selection import train_test_split\n",
    "from sklearn.metrics import accuracy_score\n",
    "from sklearn.neighbors import NearestNeighbors, KNeighborsClassifier\n",
    "from sklearn.model_selection import train_test_split # for data partition.\n",
    "from sklearn.metrics import r2_score # to identify r_squared for regression model.\n",
    "from sklearn.linear_model import LinearRegression # for linear regression model.\n",
    "from pandas.plotting import scatter_matrix, parallel_coordinates\n",
    "\n",
    "from sklearn.model_selection import train_test_split\n",
    "from sklearn.metrics import accuracy_score\n",
    "from sklearn.neighbors import NearestNeighbors, KNeighborsClassifier\n",
    "from sklearn import preprocessing\n",
    "import dmba\n",
    "from dmba import plotDecisionTree, classificationSummary, regressionSummary\n",
    "from sklearn.tree import DecisionTreeClassifier, DecisionTreeRegressor\n",
    "from sklearn.ensemble import RandomForestClassifier, GradientBoostingClassifier\n",
    "from sklearn.model_selection import train_test_split, cross_val_score, GridSearchCV\n",
    "\n",
    "\n",
    "%matplotlib inline \n"
   ]
  },
  {
   "cell_type": "code",
   "execution_count": 2,
   "id": "9731d349",
   "metadata": {},
   "outputs": [
    {
     "data": {
      "text/html": [
       "<div>\n",
       "<style scoped>\n",
       "    .dataframe tbody tr th:only-of-type {\n",
       "        vertical-align: middle;\n",
       "    }\n",
       "\n",
       "    .dataframe tbody tr th {\n",
       "        vertical-align: top;\n",
       "    }\n",
       "\n",
       "    .dataframe thead th {\n",
       "        text-align: right;\n",
       "    }\n",
       "</style>\n",
       "<table border=\"1\" class=\"dataframe\">\n",
       "  <thead>\n",
       "    <tr style=\"text-align: right;\">\n",
       "      <th></th>\n",
       "      <th>ID</th>\n",
       "      <th>Age</th>\n",
       "      <th>Experience</th>\n",
       "      <th>Income</th>\n",
       "      <th>ZIP Code</th>\n",
       "      <th>Family</th>\n",
       "      <th>CCAvg</th>\n",
       "      <th>Education</th>\n",
       "      <th>Mortgage</th>\n",
       "      <th>Personal Loan</th>\n",
       "      <th>Securities Account</th>\n",
       "      <th>CD Account</th>\n",
       "      <th>Online</th>\n",
       "      <th>CreditCard</th>\n",
       "    </tr>\n",
       "  </thead>\n",
       "  <tbody>\n",
       "    <tr>\n",
       "      <th>0</th>\n",
       "      <td>1</td>\n",
       "      <td>25</td>\n",
       "      <td>1</td>\n",
       "      <td>49</td>\n",
       "      <td>91107</td>\n",
       "      <td>4</td>\n",
       "      <td>1.6</td>\n",
       "      <td>1</td>\n",
       "      <td>0</td>\n",
       "      <td>0</td>\n",
       "      <td>1</td>\n",
       "      <td>0</td>\n",
       "      <td>0</td>\n",
       "      <td>0</td>\n",
       "    </tr>\n",
       "    <tr>\n",
       "      <th>1</th>\n",
       "      <td>2</td>\n",
       "      <td>45</td>\n",
       "      <td>19</td>\n",
       "      <td>34</td>\n",
       "      <td>90089</td>\n",
       "      <td>3</td>\n",
       "      <td>1.5</td>\n",
       "      <td>1</td>\n",
       "      <td>0</td>\n",
       "      <td>0</td>\n",
       "      <td>1</td>\n",
       "      <td>0</td>\n",
       "      <td>0</td>\n",
       "      <td>0</td>\n",
       "    </tr>\n",
       "    <tr>\n",
       "      <th>2</th>\n",
       "      <td>3</td>\n",
       "      <td>39</td>\n",
       "      <td>15</td>\n",
       "      <td>11</td>\n",
       "      <td>94720</td>\n",
       "      <td>1</td>\n",
       "      <td>1.0</td>\n",
       "      <td>1</td>\n",
       "      <td>0</td>\n",
       "      <td>0</td>\n",
       "      <td>0</td>\n",
       "      <td>0</td>\n",
       "      <td>0</td>\n",
       "      <td>0</td>\n",
       "    </tr>\n",
       "    <tr>\n",
       "      <th>3</th>\n",
       "      <td>4</td>\n",
       "      <td>35</td>\n",
       "      <td>9</td>\n",
       "      <td>100</td>\n",
       "      <td>94112</td>\n",
       "      <td>1</td>\n",
       "      <td>2.7</td>\n",
       "      <td>2</td>\n",
       "      <td>0</td>\n",
       "      <td>0</td>\n",
       "      <td>0</td>\n",
       "      <td>0</td>\n",
       "      <td>0</td>\n",
       "      <td>0</td>\n",
       "    </tr>\n",
       "    <tr>\n",
       "      <th>4</th>\n",
       "      <td>5</td>\n",
       "      <td>35</td>\n",
       "      <td>8</td>\n",
       "      <td>45</td>\n",
       "      <td>91330</td>\n",
       "      <td>4</td>\n",
       "      <td>1.0</td>\n",
       "      <td>2</td>\n",
       "      <td>0</td>\n",
       "      <td>0</td>\n",
       "      <td>0</td>\n",
       "      <td>0</td>\n",
       "      <td>0</td>\n",
       "      <td>1</td>\n",
       "    </tr>\n",
       "    <tr>\n",
       "      <th>5</th>\n",
       "      <td>6</td>\n",
       "      <td>37</td>\n",
       "      <td>13</td>\n",
       "      <td>29</td>\n",
       "      <td>92121</td>\n",
       "      <td>4</td>\n",
       "      <td>0.4</td>\n",
       "      <td>2</td>\n",
       "      <td>155</td>\n",
       "      <td>0</td>\n",
       "      <td>0</td>\n",
       "      <td>0</td>\n",
       "      <td>1</td>\n",
       "      <td>0</td>\n",
       "    </tr>\n",
       "    <tr>\n",
       "      <th>6</th>\n",
       "      <td>7</td>\n",
       "      <td>53</td>\n",
       "      <td>27</td>\n",
       "      <td>72</td>\n",
       "      <td>91711</td>\n",
       "      <td>2</td>\n",
       "      <td>1.5</td>\n",
       "      <td>2</td>\n",
       "      <td>0</td>\n",
       "      <td>0</td>\n",
       "      <td>0</td>\n",
       "      <td>0</td>\n",
       "      <td>1</td>\n",
       "      <td>0</td>\n",
       "    </tr>\n",
       "    <tr>\n",
       "      <th>7</th>\n",
       "      <td>8</td>\n",
       "      <td>50</td>\n",
       "      <td>24</td>\n",
       "      <td>22</td>\n",
       "      <td>93943</td>\n",
       "      <td>1</td>\n",
       "      <td>0.3</td>\n",
       "      <td>3</td>\n",
       "      <td>0</td>\n",
       "      <td>0</td>\n",
       "      <td>0</td>\n",
       "      <td>0</td>\n",
       "      <td>0</td>\n",
       "      <td>1</td>\n",
       "    </tr>\n",
       "    <tr>\n",
       "      <th>8</th>\n",
       "      <td>9</td>\n",
       "      <td>35</td>\n",
       "      <td>10</td>\n",
       "      <td>81</td>\n",
       "      <td>90089</td>\n",
       "      <td>3</td>\n",
       "      <td>0.6</td>\n",
       "      <td>2</td>\n",
       "      <td>104</td>\n",
       "      <td>0</td>\n",
       "      <td>0</td>\n",
       "      <td>0</td>\n",
       "      <td>1</td>\n",
       "      <td>0</td>\n",
       "    </tr>\n",
       "  </tbody>\n",
       "</table>\n",
       "</div>"
      ],
      "text/plain": [
       "   ID  Age  Experience  Income  ZIP Code  Family  CCAvg  Education  Mortgage  \\\n",
       "0   1   25           1      49     91107       4    1.6          1         0   \n",
       "1   2   45          19      34     90089       3    1.5          1         0   \n",
       "2   3   39          15      11     94720       1    1.0          1         0   \n",
       "3   4   35           9     100     94112       1    2.7          2         0   \n",
       "4   5   35           8      45     91330       4    1.0          2         0   \n",
       "5   6   37          13      29     92121       4    0.4          2       155   \n",
       "6   7   53          27      72     91711       2    1.5          2         0   \n",
       "7   8   50          24      22     93943       1    0.3          3         0   \n",
       "8   9   35          10      81     90089       3    0.6          2       104   \n",
       "\n",
       "   Personal Loan  Securities Account  CD Account  Online  CreditCard  \n",
       "0              0                   1           0       0           0  \n",
       "1              0                   1           0       0           0  \n",
       "2              0                   0           0       0           0  \n",
       "3              0                   0           0       0           0  \n",
       "4              0                   0           0       0           1  \n",
       "5              0                   0           0       1           0  \n",
       "6              0                   0           0       1           0  \n",
       "7              0                   0           0       0           1  \n",
       "8              0                   0           0       1           0  "
      ]
     },
     "execution_count": 2,
     "metadata": {},
     "output_type": "execute_result"
    }
   ],
   "source": [
    "#load the dataset\n",
    "universalbank_df = pd.read_csv('UniversalBank.csv')\n",
    "universalbank_df.head(9)"
   ]
  },
  {
   "cell_type": "code",
   "execution_count": 3,
   "id": "cb94fb79",
   "metadata": {},
   "outputs": [
    {
     "data": {
      "text/plain": [
       "(5000, 14)"
      ]
     },
     "execution_count": 3,
     "metadata": {},
     "output_type": "execute_result"
    }
   ],
   "source": [
    "universalbank_df.shape"
   ]
  },
  {
   "cell_type": "code",
   "execution_count": 4,
   "id": "89515b66",
   "metadata": {},
   "outputs": [
    {
     "data": {
      "text/plain": [
       "Index(['ID', 'Age', 'Experience', 'Income', 'ZIP Code', 'Family', 'CCAvg',\n",
       "       'Education', 'Mortgage', 'Personal Loan', 'Securities Account',\n",
       "       'CD Account', 'Online', 'CreditCard'],\n",
       "      dtype='object')"
      ]
     },
     "execution_count": 4,
     "metadata": {},
     "output_type": "execute_result"
    }
   ],
   "source": [
    "#print the column names\n",
    "universalbank_df.columns"
   ]
  },
  {
   "cell_type": "code",
   "execution_count": 5,
   "id": "f1d101f2",
   "metadata": {},
   "outputs": [
    {
     "data": {
      "text/plain": [
       "Index(['ID', 'Age', 'Experience', 'Income', 'ZIP_Code', 'Family', 'CCAvg',\n",
       "       'Education', 'Mortgage', 'Personal_Loan', 'Securities_Account',\n",
       "       'CD_Account', 'Online', 'CreditCard'],\n",
       "      dtype='object')"
      ]
     },
     "execution_count": 5,
     "metadata": {},
     "output_type": "execute_result"
    }
   ],
   "source": [
    "#rename columns with spaces\n",
    "universalbank_df.columns = [s.strip().replace(' ', '_') for s in universalbank_df.columns]\n",
    "universalbank_df.columns"
   ]
  },
  {
   "cell_type": "code",
   "execution_count": 6,
   "id": "429b0cab",
   "metadata": {},
   "outputs": [
    {
     "name": "stdout",
     "output_type": "stream",
     "text": [
      "Int64Index([0, 1], dtype='int64')\n",
      "Int64Index([0, 1], dtype='int64')\n",
      "Int64Index([0, 1], dtype='int64')\n",
      "Int64Index([0, 1], dtype='int64')\n",
      "Int64Index([0, 1], dtype='int64')\n"
     ]
    }
   ],
   "source": [
    "#Identify the categorical variables and convert the data type\n",
    "universalbank_df['Securities_Account'] = universalbank_df['Securities_Account'].astype('category')\n",
    "universalbank_df['CD_Account'] = universalbank_df['CD_Account'].astype('category')\n",
    "universalbank_df['Online'] = universalbank_df['Online'].astype('category')\n",
    "universalbank_df['CreditCard'] = universalbank_df['CreditCard'].astype('category')\n",
    "universalbank_df['Personal_Loan'] = universalbank_df['Personal_Loan'].astype('category')\n",
    "print(universalbank_df.Personal_Loan.cat.categories)\n",
    "print(universalbank_df.Securities_Account.cat.categories)\n",
    "print(universalbank_df.CD_Account.cat.categories)\n",
    "print(universalbank_df.Online.cat.categories)\n",
    "print(universalbank_df.CreditCard.cat.categories)"
   ]
  },
  {
   "cell_type": "code",
   "execution_count": 7,
   "id": "7bb28de7",
   "metadata": {},
   "outputs": [
    {
     "name": "stdout",
     "output_type": "stream",
     "text": [
      "<class 'pandas.core.frame.DataFrame'>\n",
      "RangeIndex: 5000 entries, 0 to 4999\n",
      "Data columns (total 14 columns):\n",
      " #   Column              Non-Null Count  Dtype   \n",
      "---  ------              --------------  -----   \n",
      " 0   ID                  5000 non-null   int64   \n",
      " 1   Age                 5000 non-null   int64   \n",
      " 2   Experience          5000 non-null   int64   \n",
      " 3   Income              5000 non-null   int64   \n",
      " 4   ZIP_Code            5000 non-null   int64   \n",
      " 5   Family              5000 non-null   int64   \n",
      " 6   CCAvg               5000 non-null   float64 \n",
      " 7   Education           5000 non-null   int64   \n",
      " 8   Mortgage            5000 non-null   int64   \n",
      " 9   Personal_Loan       5000 non-null   category\n",
      " 10  Securities_Account  5000 non-null   category\n",
      " 11  CD_Account          5000 non-null   category\n",
      " 12  Online              5000 non-null   category\n",
      " 13  CreditCard          5000 non-null   category\n",
      "dtypes: category(5), float64(1), int64(8)\n",
      "memory usage: 376.7 KB\n"
     ]
    }
   ],
   "source": [
    "#information of the dataset\n",
    "universalbank_df.info()"
   ]
  },
  {
   "cell_type": "code",
   "execution_count": 8,
   "id": "8fbf6137",
   "metadata": {},
   "outputs": [
    {
     "data": {
      "text/html": [
       "<div>\n",
       "<style scoped>\n",
       "    .dataframe tbody tr th:only-of-type {\n",
       "        vertical-align: middle;\n",
       "    }\n",
       "\n",
       "    .dataframe tbody tr th {\n",
       "        vertical-align: top;\n",
       "    }\n",
       "\n",
       "    .dataframe thead th {\n",
       "        text-align: right;\n",
       "    }\n",
       "</style>\n",
       "<table border=\"1\" class=\"dataframe\">\n",
       "  <thead>\n",
       "    <tr style=\"text-align: right;\">\n",
       "      <th></th>\n",
       "      <th>ID</th>\n",
       "      <th>Age</th>\n",
       "      <th>Experience</th>\n",
       "      <th>Income</th>\n",
       "      <th>ZIP_Code</th>\n",
       "      <th>Family</th>\n",
       "      <th>CCAvg</th>\n",
       "      <th>Education</th>\n",
       "      <th>Mortgage</th>\n",
       "    </tr>\n",
       "  </thead>\n",
       "  <tbody>\n",
       "    <tr>\n",
       "      <th>ID</th>\n",
       "      <td>1.000000</td>\n",
       "      <td>-0.008473</td>\n",
       "      <td>-0.008326</td>\n",
       "      <td>-0.017695</td>\n",
       "      <td>0.013432</td>\n",
       "      <td>-0.016797</td>\n",
       "      <td>-0.024675</td>\n",
       "      <td>0.021463</td>\n",
       "      <td>-0.013920</td>\n",
       "    </tr>\n",
       "    <tr>\n",
       "      <th>Age</th>\n",
       "      <td>-0.008473</td>\n",
       "      <td>1.000000</td>\n",
       "      <td>0.994215</td>\n",
       "      <td>-0.055269</td>\n",
       "      <td>-0.029216</td>\n",
       "      <td>-0.046418</td>\n",
       "      <td>-0.052012</td>\n",
       "      <td>0.041334</td>\n",
       "      <td>-0.012539</td>\n",
       "    </tr>\n",
       "    <tr>\n",
       "      <th>Experience</th>\n",
       "      <td>-0.008326</td>\n",
       "      <td>0.994215</td>\n",
       "      <td>1.000000</td>\n",
       "      <td>-0.046574</td>\n",
       "      <td>-0.028626</td>\n",
       "      <td>-0.052563</td>\n",
       "      <td>-0.050077</td>\n",
       "      <td>0.013152</td>\n",
       "      <td>-0.010582</td>\n",
       "    </tr>\n",
       "    <tr>\n",
       "      <th>Income</th>\n",
       "      <td>-0.017695</td>\n",
       "      <td>-0.055269</td>\n",
       "      <td>-0.046574</td>\n",
       "      <td>1.000000</td>\n",
       "      <td>-0.016410</td>\n",
       "      <td>-0.157501</td>\n",
       "      <td>0.645984</td>\n",
       "      <td>-0.187524</td>\n",
       "      <td>0.206806</td>\n",
       "    </tr>\n",
       "    <tr>\n",
       "      <th>ZIP_Code</th>\n",
       "      <td>0.013432</td>\n",
       "      <td>-0.029216</td>\n",
       "      <td>-0.028626</td>\n",
       "      <td>-0.016410</td>\n",
       "      <td>1.000000</td>\n",
       "      <td>0.011778</td>\n",
       "      <td>-0.004061</td>\n",
       "      <td>-0.017377</td>\n",
       "      <td>0.007383</td>\n",
       "    </tr>\n",
       "    <tr>\n",
       "      <th>Family</th>\n",
       "      <td>-0.016797</td>\n",
       "      <td>-0.046418</td>\n",
       "      <td>-0.052563</td>\n",
       "      <td>-0.157501</td>\n",
       "      <td>0.011778</td>\n",
       "      <td>1.000000</td>\n",
       "      <td>-0.109275</td>\n",
       "      <td>0.064929</td>\n",
       "      <td>-0.020445</td>\n",
       "    </tr>\n",
       "    <tr>\n",
       "      <th>CCAvg</th>\n",
       "      <td>-0.024675</td>\n",
       "      <td>-0.052012</td>\n",
       "      <td>-0.050077</td>\n",
       "      <td>0.645984</td>\n",
       "      <td>-0.004061</td>\n",
       "      <td>-0.109275</td>\n",
       "      <td>1.000000</td>\n",
       "      <td>-0.136124</td>\n",
       "      <td>0.109905</td>\n",
       "    </tr>\n",
       "    <tr>\n",
       "      <th>Education</th>\n",
       "      <td>0.021463</td>\n",
       "      <td>0.041334</td>\n",
       "      <td>0.013152</td>\n",
       "      <td>-0.187524</td>\n",
       "      <td>-0.017377</td>\n",
       "      <td>0.064929</td>\n",
       "      <td>-0.136124</td>\n",
       "      <td>1.000000</td>\n",
       "      <td>-0.033327</td>\n",
       "    </tr>\n",
       "    <tr>\n",
       "      <th>Mortgage</th>\n",
       "      <td>-0.013920</td>\n",
       "      <td>-0.012539</td>\n",
       "      <td>-0.010582</td>\n",
       "      <td>0.206806</td>\n",
       "      <td>0.007383</td>\n",
       "      <td>-0.020445</td>\n",
       "      <td>0.109905</td>\n",
       "      <td>-0.033327</td>\n",
       "      <td>1.000000</td>\n",
       "    </tr>\n",
       "  </tbody>\n",
       "</table>\n",
       "</div>"
      ],
      "text/plain": [
       "                  ID       Age  Experience    Income  ZIP_Code    Family  \\\n",
       "ID          1.000000 -0.008473   -0.008326 -0.017695  0.013432 -0.016797   \n",
       "Age        -0.008473  1.000000    0.994215 -0.055269 -0.029216 -0.046418   \n",
       "Experience -0.008326  0.994215    1.000000 -0.046574 -0.028626 -0.052563   \n",
       "Income     -0.017695 -0.055269   -0.046574  1.000000 -0.016410 -0.157501   \n",
       "ZIP_Code    0.013432 -0.029216   -0.028626 -0.016410  1.000000  0.011778   \n",
       "Family     -0.016797 -0.046418   -0.052563 -0.157501  0.011778  1.000000   \n",
       "CCAvg      -0.024675 -0.052012   -0.050077  0.645984 -0.004061 -0.109275   \n",
       "Education   0.021463  0.041334    0.013152 -0.187524 -0.017377  0.064929   \n",
       "Mortgage   -0.013920 -0.012539   -0.010582  0.206806  0.007383 -0.020445   \n",
       "\n",
       "               CCAvg  Education  Mortgage  \n",
       "ID         -0.024675   0.021463 -0.013920  \n",
       "Age        -0.052012   0.041334 -0.012539  \n",
       "Experience -0.050077   0.013152 -0.010582  \n",
       "Income      0.645984  -0.187524  0.206806  \n",
       "ZIP_Code   -0.004061  -0.017377  0.007383  \n",
       "Family     -0.109275   0.064929 -0.020445  \n",
       "CCAvg       1.000000  -0.136124  0.109905  \n",
       "Education  -0.136124   1.000000 -0.033327  \n",
       "Mortgage    0.109905  -0.033327  1.000000  "
      ]
     },
     "execution_count": 8,
     "metadata": {},
     "output_type": "execute_result"
    }
   ],
   "source": [
    "#finding the correlations\n",
    "cor  = universalbank_df.corr()\n",
    "cor"
   ]
  },
  {
   "cell_type": "markdown",
   "id": "274187f0",
   "metadata": {},
   "source": [
    " Partition- 70% of data is assigned to training data and 30% to validation set. "
   ]
  },
  {
   "cell_type": "code",
   "execution_count": 9,
   "id": "4ae70dba",
   "metadata": {},
   "outputs": [
    {
     "name": "stdout",
     "output_type": "stream",
     "text": [
      "Training   :  (3500, 14)\n",
      "Validation :  (1500, 14)\n",
      "\n"
     ]
    }
   ],
   "source": [
    "# random_state is set to a defined value to get the same partitions when re-running the code\n",
    "trainData= universalbank_df.sample(frac=0.7, random_state=1)\n",
    "# assign rows that are not already in the training set, into validation \n",
    "validData = universalbank_df.drop(trainData.index)\n",
    "\n",
    "print('Training   : ', trainData.shape)\n",
    "print('Validation : ', validData.shape)\n",
    "print()"
   ]
  },
  {
   "cell_type": "code",
   "execution_count": 10,
   "id": "c301f6a7",
   "metadata": {
    "scrolled": false
   },
   "outputs": [
    {
     "data": {
      "text/html": [
       "<div>\n",
       "<style scoped>\n",
       "    .dataframe tbody tr th:only-of-type {\n",
       "        vertical-align: middle;\n",
       "    }\n",
       "\n",
       "    .dataframe tbody tr th {\n",
       "        vertical-align: top;\n",
       "    }\n",
       "\n",
       "    .dataframe thead th {\n",
       "        text-align: right;\n",
       "    }\n",
       "</style>\n",
       "<table border=\"1\" class=\"dataframe\">\n",
       "  <thead>\n",
       "    <tr style=\"text-align: right;\">\n",
       "      <th></th>\n",
       "      <th>ID</th>\n",
       "      <th>Age</th>\n",
       "      <th>Experience</th>\n",
       "      <th>Income</th>\n",
       "      <th>ZIP_Code</th>\n",
       "      <th>Family</th>\n",
       "      <th>CCAvg</th>\n",
       "      <th>Education</th>\n",
       "      <th>Mortgage</th>\n",
       "      <th>Personal_Loan</th>\n",
       "      <th>Securities_Account</th>\n",
       "      <th>CD_Account</th>\n",
       "      <th>Online</th>\n",
       "      <th>CreditCard</th>\n",
       "    </tr>\n",
       "  </thead>\n",
       "  <tbody>\n",
       "    <tr>\n",
       "      <th>0</th>\n",
       "      <td>1</td>\n",
       "      <td>25</td>\n",
       "      <td>1</td>\n",
       "      <td>49</td>\n",
       "      <td>91107</td>\n",
       "      <td>4</td>\n",
       "      <td>1.6</td>\n",
       "      <td>1</td>\n",
       "      <td>0</td>\n",
       "      <td>0</td>\n",
       "      <td>1</td>\n",
       "      <td>0</td>\n",
       "      <td>0</td>\n",
       "      <td>0</td>\n",
       "    </tr>\n",
       "    <tr>\n",
       "      <th>1</th>\n",
       "      <td>2</td>\n",
       "      <td>45</td>\n",
       "      <td>19</td>\n",
       "      <td>34</td>\n",
       "      <td>90089</td>\n",
       "      <td>3</td>\n",
       "      <td>1.5</td>\n",
       "      <td>1</td>\n",
       "      <td>0</td>\n",
       "      <td>0</td>\n",
       "      <td>1</td>\n",
       "      <td>0</td>\n",
       "      <td>0</td>\n",
       "      <td>0</td>\n",
       "    </tr>\n",
       "    <tr>\n",
       "      <th>2</th>\n",
       "      <td>3</td>\n",
       "      <td>39</td>\n",
       "      <td>15</td>\n",
       "      <td>11</td>\n",
       "      <td>94720</td>\n",
       "      <td>1</td>\n",
       "      <td>1.0</td>\n",
       "      <td>1</td>\n",
       "      <td>0</td>\n",
       "      <td>0</td>\n",
       "      <td>0</td>\n",
       "      <td>0</td>\n",
       "      <td>0</td>\n",
       "      <td>0</td>\n",
       "    </tr>\n",
       "    <tr>\n",
       "      <th>3</th>\n",
       "      <td>4</td>\n",
       "      <td>35</td>\n",
       "      <td>9</td>\n",
       "      <td>100</td>\n",
       "      <td>94112</td>\n",
       "      <td>1</td>\n",
       "      <td>2.7</td>\n",
       "      <td>2</td>\n",
       "      <td>0</td>\n",
       "      <td>0</td>\n",
       "      <td>0</td>\n",
       "      <td>0</td>\n",
       "      <td>0</td>\n",
       "      <td>0</td>\n",
       "    </tr>\n",
       "    <tr>\n",
       "      <th>4</th>\n",
       "      <td>5</td>\n",
       "      <td>35</td>\n",
       "      <td>8</td>\n",
       "      <td>45</td>\n",
       "      <td>91330</td>\n",
       "      <td>4</td>\n",
       "      <td>1.0</td>\n",
       "      <td>2</td>\n",
       "      <td>0</td>\n",
       "      <td>0</td>\n",
       "      <td>0</td>\n",
       "      <td>0</td>\n",
       "      <td>0</td>\n",
       "      <td>1</td>\n",
       "    </tr>\n",
       "  </tbody>\n",
       "</table>\n",
       "</div>"
      ],
      "text/plain": [
       "   ID  Age  Experience  Income  ZIP_Code  Family  CCAvg  Education  Mortgage  \\\n",
       "0   1   25           1      49     91107       4    1.6          1         0   \n",
       "1   2   45          19      34     90089       3    1.5          1         0   \n",
       "2   3   39          15      11     94720       1    1.0          1         0   \n",
       "3   4   35           9     100     94112       1    2.7          2         0   \n",
       "4   5   35           8      45     91330       4    1.0          2         0   \n",
       "\n",
       "  Personal_Loan Securities_Account CD_Account Online CreditCard  \n",
       "0             0                  1          0      0          0  \n",
       "1             0                  1          0      0          0  \n",
       "2             0                  0          0      0          0  \n",
       "3             0                  0          0      0          0  \n",
       "4             0                  0          0      0          1  "
      ]
     },
     "execution_count": 10,
     "metadata": {},
     "output_type": "execute_result"
    }
   ],
   "source": [
    "universalbank_df.head()"
   ]
  },
  {
   "cell_type": "code",
   "execution_count": 11,
   "id": "1be689ff",
   "metadata": {},
   "outputs": [
    {
     "data": {
      "text/plain": [
       "Index(['ID', 'Age', 'Experience', 'Income', 'ZIP_Code', 'Family', 'CCAvg',\n",
       "       'Education', 'Mortgage', 'Personal_Loan', 'Securities_Account',\n",
       "       'CD_Account', 'Online', 'CreditCard'],\n",
       "      dtype='object')"
      ]
     },
     "execution_count": 11,
     "metadata": {},
     "output_type": "execute_result"
    }
   ],
   "source": [
    "universalbank_df.columns"
   ]
  },
  {
   "cell_type": "code",
   "execution_count": 12,
   "id": "12efb9d4",
   "metadata": {},
   "outputs": [
    {
     "data": {
      "text/plain": [
       "array([1, 2, 3], dtype=int64)"
      ]
     },
     "execution_count": 12,
     "metadata": {},
     "output_type": "execute_result"
    }
   ],
   "source": [
    "universalbank_df['Education'].unique()"
   ]
  },
  {
   "cell_type": "code",
   "execution_count": 13,
   "id": "dd993474",
   "metadata": {},
   "outputs": [
    {
     "data": {
      "text/html": [
       "<div>\n",
       "<style scoped>\n",
       "    .dataframe tbody tr th:only-of-type {\n",
       "        vertical-align: middle;\n",
       "    }\n",
       "\n",
       "    .dataframe tbody tr th {\n",
       "        vertical-align: top;\n",
       "    }\n",
       "\n",
       "    .dataframe thead th {\n",
       "        text-align: right;\n",
       "    }\n",
       "</style>\n",
       "<table border=\"1\" class=\"dataframe\">\n",
       "  <thead>\n",
       "    <tr style=\"text-align: right;\">\n",
       "      <th></th>\n",
       "      <th>ID</th>\n",
       "      <th>Age</th>\n",
       "      <th>Experience</th>\n",
       "      <th>Income</th>\n",
       "      <th>ZIP_Code</th>\n",
       "      <th>Family</th>\n",
       "      <th>CCAvg</th>\n",
       "      <th>Education</th>\n",
       "      <th>Mortgage</th>\n",
       "      <th>Securities_Account</th>\n",
       "      <th>CD_Account</th>\n",
       "      <th>Online</th>\n",
       "      <th>CreditCard</th>\n",
       "    </tr>\n",
       "  </thead>\n",
       "  <tbody>\n",
       "    <tr>\n",
       "      <th>0</th>\n",
       "      <td>5001</td>\n",
       "      <td>27</td>\n",
       "      <td>4</td>\n",
       "      <td>50</td>\n",
       "      <td>94542</td>\n",
       "      <td>1</td>\n",
       "      <td>0.6</td>\n",
       "      <td>2</td>\n",
       "      <td>0</td>\n",
       "      <td>0</td>\n",
       "      <td>0</td>\n",
       "      <td>1</td>\n",
       "      <td>0</td>\n",
       "    </tr>\n",
       "  </tbody>\n",
       "</table>\n",
       "</div>"
      ],
      "text/plain": [
       "     ID  Age  Experience  Income  ZIP_Code  Family  CCAvg  Education  \\\n",
       "0  5001   27           4      50     94542       1    0.6          2   \n",
       "\n",
       "   Mortgage  Securities_Account  CD_Account  Online  CreditCard  \n",
       "0         0                   0           0       1           0  "
      ]
     },
     "execution_count": 13,
     "metadata": {},
     "output_type": "execute_result"
    }
   ],
   "source": [
    "#new data for new account\n",
    "newAccount = pd.DataFrame([{'ID': 5001, 'Age': 27, 'Experience': 4, 'Income': 50, 'ZIP_Code': 94542 , 'Family': 1, 'CCAvg': 0.6,\n",
    "       'Education': 2, 'Mortgage': 0, 'Securities_Account': 0,\n",
    "       'CD_Account': 0, 'Online': 1, 'CreditCard': 0}])\n",
    "newAccount"
   ]
  },
  {
   "cell_type": "code",
   "execution_count": 14,
   "id": "92ea8cd2",
   "metadata": {},
   "outputs": [
    {
     "data": {
      "text/plain": [
       "(1, 13)"
      ]
     },
     "execution_count": 14,
     "metadata": {},
     "output_type": "execute_result"
    }
   ],
   "source": [
    "newAccount.shape"
   ]
  },
  {
   "cell_type": "markdown",
   "id": "c249713f",
   "metadata": {},
   "source": [
    "#Normalizing the dataset. Scal the data using scaler and finding z value for columns"
   ]
  },
  {
   "cell_type": "code",
   "execution_count": 15,
   "id": "a1ab29fe",
   "metadata": {
    "scrolled": false
   },
   "outputs": [],
   "source": [
    "#Initialize normalized training, validation, and complete data frames. Use the training data to learn the transformation.\n",
    "scaler = preprocessing.StandardScaler()\n",
    "scaler.fit(trainData[['Income', 'CCAvg','CD_Account', 'Family', 'Education', 'Mortgage']])  # Note the use of an array of column names\n",
    "\n",
    "# Transform the full dataset\n",
    "bankNorm = pd.concat([pd.DataFrame(scaler.transform(universalbank_df[['Income', 'CCAvg', 'CD_Account', 'Family', 'Education', 'Mortgage']]), \n",
    "                                    columns=['zIncome', 'zCCAvg', 'zCD_Account', 'zFamily', 'zEducation', 'zMortgage']),\n",
    "                       universalbank_df[['Personal_Loan']]], axis=1)\n",
    "trainNorm = bankNorm.iloc[trainData.index]\n",
    "#Similarly, get the valid one as well\n",
    "validNorm = bankNorm.iloc[validData.index]\n",
    "\n",
    "#Scale the new data\n",
    "newAccountNorm = pd.DataFrame(scaler.transform(newAccount[['Income', 'CCAvg', 'CD_Account', 'Family', 'Education', 'Mortgage']]), \n",
    "                                    columns=['zIncome', 'zCCAvg', 'zCD_Account', 'zFamily', 'zEducation', 'zMortgage'])"
   ]
  },
  {
   "cell_type": "code",
   "execution_count": 16,
   "id": "53ffed6d",
   "metadata": {},
   "outputs": [
    {
     "data": {
      "text/html": [
       "<div>\n",
       "<style scoped>\n",
       "    .dataframe tbody tr th:only-of-type {\n",
       "        vertical-align: middle;\n",
       "    }\n",
       "\n",
       "    .dataframe tbody tr th {\n",
       "        vertical-align: top;\n",
       "    }\n",
       "\n",
       "    .dataframe thead th {\n",
       "        text-align: right;\n",
       "    }\n",
       "</style>\n",
       "<table border=\"1\" class=\"dataframe\">\n",
       "  <thead>\n",
       "    <tr style=\"text-align: right;\">\n",
       "      <th></th>\n",
       "      <th>zIncome</th>\n",
       "      <th>zCCAvg</th>\n",
       "      <th>zCD_Account</th>\n",
       "      <th>zFamily</th>\n",
       "      <th>zEducation</th>\n",
       "      <th>zMortgage</th>\n",
       "      <th>Personal_Loan</th>\n",
       "    </tr>\n",
       "  </thead>\n",
       "  <tbody>\n",
       "    <tr>\n",
       "      <th>2764</th>\n",
       "      <td>0.217990</td>\n",
       "      <td>0.553393</td>\n",
       "      <td>-0.251363</td>\n",
       "      <td>-1.221982</td>\n",
       "      <td>1.343654</td>\n",
       "      <td>0.479028</td>\n",
       "      <td>0</td>\n",
       "    </tr>\n",
       "    <tr>\n",
       "      <th>4767</th>\n",
       "      <td>-0.638755</td>\n",
       "      <td>-0.602444</td>\n",
       "      <td>-0.251363</td>\n",
       "      <td>0.525847</td>\n",
       "      <td>-1.043548</td>\n",
       "      <td>0.439698</td>\n",
       "      <td>0</td>\n",
       "    </tr>\n",
       "    <tr>\n",
       "      <th>3814</th>\n",
       "      <td>-0.858433</td>\n",
       "      <td>-0.371276</td>\n",
       "      <td>-0.251363</td>\n",
       "      <td>0.525847</td>\n",
       "      <td>-1.043548</td>\n",
       "      <td>-0.553391</td>\n",
       "      <td>0</td>\n",
       "    </tr>\n",
       "    <tr>\n",
       "      <th>3499</th>\n",
       "      <td>0.877024</td>\n",
       "      <td>-0.949195</td>\n",
       "      <td>-0.251363</td>\n",
       "      <td>-1.221982</td>\n",
       "      <td>-1.043548</td>\n",
       "      <td>2.258722</td>\n",
       "      <td>0</td>\n",
       "    </tr>\n",
       "    <tr>\n",
       "      <th>2735</th>\n",
       "      <td>-0.089560</td>\n",
       "      <td>0.380018</td>\n",
       "      <td>-0.251363</td>\n",
       "      <td>0.525847</td>\n",
       "      <td>0.150053</td>\n",
       "      <td>1.068982</td>\n",
       "      <td>0</td>\n",
       "    </tr>\n",
       "  </tbody>\n",
       "</table>\n",
       "</div>"
      ],
      "text/plain": [
       "       zIncome    zCCAvg  zCD_Account   zFamily  zEducation  zMortgage  \\\n",
       "2764  0.217990  0.553393    -0.251363 -1.221982    1.343654   0.479028   \n",
       "4767 -0.638755 -0.602444    -0.251363  0.525847   -1.043548   0.439698   \n",
       "3814 -0.858433 -0.371276    -0.251363  0.525847   -1.043548  -0.553391   \n",
       "3499  0.877024 -0.949195    -0.251363 -1.221982   -1.043548   2.258722   \n",
       "2735 -0.089560  0.380018    -0.251363  0.525847    0.150053   1.068982   \n",
       "\n",
       "     Personal_Loan  \n",
       "2764             0  \n",
       "4767             0  \n",
       "3814             0  \n",
       "3499             0  \n",
       "2735             0  "
      ]
     },
     "execution_count": 16,
     "metadata": {},
     "output_type": "execute_result"
    }
   ],
   "source": [
    "trainNorm.head()"
   ]
  },
  {
   "cell_type": "code",
   "execution_count": 17,
   "id": "0cb10f61",
   "metadata": {
    "scrolled": true
   },
   "outputs": [
    {
     "data": {
      "text/html": [
       "<div>\n",
       "<style scoped>\n",
       "    .dataframe tbody tr th:only-of-type {\n",
       "        vertical-align: middle;\n",
       "    }\n",
       "\n",
       "    .dataframe tbody tr th {\n",
       "        vertical-align: top;\n",
       "    }\n",
       "\n",
       "    .dataframe thead th {\n",
       "        text-align: right;\n",
       "    }\n",
       "</style>\n",
       "<table border=\"1\" class=\"dataframe\">\n",
       "  <thead>\n",
       "    <tr style=\"text-align: right;\">\n",
       "      <th></th>\n",
       "      <th>zIncome</th>\n",
       "      <th>zCCAvg</th>\n",
       "      <th>zCD_Account</th>\n",
       "      <th>zFamily</th>\n",
       "      <th>zEducation</th>\n",
       "      <th>zMortgage</th>\n",
       "      <th>Personal_Loan</th>\n",
       "    </tr>\n",
       "  </thead>\n",
       "  <tbody>\n",
       "    <tr>\n",
       "      <th>0</th>\n",
       "      <td>-0.550883</td>\n",
       "      <td>-0.197901</td>\n",
       "      <td>-0.251363</td>\n",
       "      <td>1.399762</td>\n",
       "      <td>-1.043548</td>\n",
       "      <td>-0.553391</td>\n",
       "      <td>0</td>\n",
       "    </tr>\n",
       "    <tr>\n",
       "      <th>2</th>\n",
       "      <td>-1.385660</td>\n",
       "      <td>-0.544652</td>\n",
       "      <td>-0.251363</td>\n",
       "      <td>-1.221982</td>\n",
       "      <td>-1.043548</td>\n",
       "      <td>-0.553391</td>\n",
       "      <td>0</td>\n",
       "    </tr>\n",
       "    <tr>\n",
       "      <th>9</th>\n",
       "      <td>2.326899</td>\n",
       "      <td>4.020904</td>\n",
       "      <td>-0.251363</td>\n",
       "      <td>-1.221982</td>\n",
       "      <td>1.343654</td>\n",
       "      <td>-0.553391</td>\n",
       "      <td>1</td>\n",
       "    </tr>\n",
       "    <tr>\n",
       "      <th>14</th>\n",
       "      <td>0.833088</td>\n",
       "      <td>0.033267</td>\n",
       "      <td>-0.251363</td>\n",
       "      <td>-1.221982</td>\n",
       "      <td>-1.043548</td>\n",
       "      <td>-0.553391</td>\n",
       "      <td>0</td>\n",
       "    </tr>\n",
       "    <tr>\n",
       "      <th>15</th>\n",
       "      <td>-1.144014</td>\n",
       "      <td>-0.255693</td>\n",
       "      <td>-0.251363</td>\n",
       "      <td>-1.221982</td>\n",
       "      <td>1.343654</td>\n",
       "      <td>-0.553391</td>\n",
       "      <td>0</td>\n",
       "    </tr>\n",
       "  </tbody>\n",
       "</table>\n",
       "</div>"
      ],
      "text/plain": [
       "     zIncome    zCCAvg  zCD_Account   zFamily  zEducation  zMortgage  \\\n",
       "0  -0.550883 -0.197901    -0.251363  1.399762   -1.043548  -0.553391   \n",
       "2  -1.385660 -0.544652    -0.251363 -1.221982   -1.043548  -0.553391   \n",
       "9   2.326899  4.020904    -0.251363 -1.221982    1.343654  -0.553391   \n",
       "14  0.833088  0.033267    -0.251363 -1.221982   -1.043548  -0.553391   \n",
       "15 -1.144014 -0.255693    -0.251363 -1.221982    1.343654  -0.553391   \n",
       "\n",
       "   Personal_Loan  \n",
       "0              0  \n",
       "2              0  \n",
       "9              1  \n",
       "14             0  \n",
       "15             0  "
      ]
     },
     "execution_count": 17,
     "metadata": {},
     "output_type": "execute_result"
    }
   ],
   "source": [
    "validNorm.head()"
   ]
  },
  {
   "cell_type": "code",
   "execution_count": 18,
   "id": "dacb4f77",
   "metadata": {},
   "outputs": [
    {
     "name": "stdout",
     "output_type": "stream",
     "text": [
      "[0]\n",
      "Distances [[0.13305206 0.21034493 0.28783978]]\n",
      "Indices [[1792 1523 2730]]\n",
      "       zIncome    zCCAvg  zCD_Account   zFamily  zEducation  zMortgage  \\\n",
      "476  -0.463012 -0.660236    -0.251363 -1.221982    0.150053  -0.553391   \n",
      "332  -0.704658 -0.660236    -0.251363 -1.221982    0.150053  -0.553391   \n",
      "1015 -0.265302 -0.660236    -0.251363 -1.221982    0.150053  -0.553391   \n",
      "\n",
      "     Personal_Loan  \n",
      "476              0  \n",
      "332              0  \n",
      "1015             0  \n"
     ]
    }
   ],
   "source": [
    "#Use k-nearest neighbour\n",
    "knn = KNeighborsClassifier(n_neighbors=3).fit(trainNorm[['zIncome', 'zCCAvg', 'zCD_Account', 'zFamily', 'zEducation', 'zMortgage']], trainNorm['Personal_Loan'])\n",
    "distances, indices = knn.kneighbors(newAccountNorm)\n",
    "print(knn.predict(newAccountNorm))\n",
    "print('Distances',distances)\n",
    "print('Indices', indices)\n",
    "print(trainNorm.iloc[indices[0], :])"
   ]
  },
  {
   "cell_type": "code",
   "execution_count": 19,
   "id": "143dc3b7",
   "metadata": {},
   "outputs": [
    {
     "name": "stdout",
     "output_type": "stream",
     "text": [
      "[0]\n",
      "Distances [[0.17530724 0.21034493 0.21034493]]\n",
      "Indices [[1218 1191  348]]\n",
      "       zIncome    zCCAvg  zCD_Account   zFamily  zEducation  zMortgage  \\\n",
      "4030 -0.660722 -0.660236    -0.251363 -1.221982    0.150053  -0.553391   \n",
      "3955 -0.353173 -0.660236    -0.251363 -1.221982    0.150053  -0.553391   \n",
      "1175 -0.353173 -0.660236    -0.251363 -1.221982    0.150053  -0.553391   \n",
      "\n",
      "     Personal_Loan  \n",
      "4030             0  \n",
      "3955             0  \n",
      "1175             0  \n"
     ]
    }
   ],
   "source": [
    "#Try using knn for valid dataset\n",
    "knn = KNeighborsClassifier(n_neighbors=3).fit(validNorm[['zIncome', 'zCCAvg', 'zCD_Account', 'zFamily', 'zEducation', 'zMortgage']], validNorm['Personal_Loan'])\n",
    "distances, indices = knn.kneighbors(newAccountNorm)\n",
    "print(knn.predict(newAccountNorm))\n",
    "print('Distances',distances)\n",
    "print('Indices', indices)\n",
    "print(validNorm.iloc[indices[0], :])"
   ]
  },
  {
   "cell_type": "markdown",
   "id": "622bcdc2",
   "metadata": {},
   "source": [
    "When k-NN classification was applied to the new data, both training and validation indicated that the new data would most likely not be approved for a personal loan at the bank."
   ]
  },
  {
   "cell_type": "code",
   "execution_count": 20,
   "id": "592d88b5",
   "metadata": {},
   "outputs": [
    {
     "name": "stdout",
     "output_type": "stream",
     "text": [
      "     k  accuracy\n",
      "0    1  0.978000\n",
      "1    2  0.971333\n",
      "2    3  0.974667\n",
      "3    4  0.970000\n",
      "4    5  0.972667\n",
      "5    6  0.967333\n",
      "6    7  0.968000\n",
      "7    8  0.965333\n",
      "8    9  0.964667\n",
      "9   10  0.964667\n",
      "10  11  0.966667\n",
      "11  12  0.964000\n",
      "12  13  0.967333\n",
      "13  14  0.966000\n"
     ]
    }
   ],
   "source": [
    "#finding the best K and accuracy\n",
    "train_X = trainNorm[['zIncome', 'zCCAvg', 'zCD_Account', 'zFamily', 'zEducation', 'zMortgage']]\n",
    "train_y = trainNorm['Personal_Loan']\n",
    "valid_X = validNorm[['zIncome', 'zCCAvg', 'zCD_Account', 'zFamily', 'zEducation', 'zMortgage']]\n",
    "valid_y = validNorm['Personal_Loan']\n",
    "\n",
    "# Train a classifier for different values of k\n",
    "results = []\n",
    "for k in range(1, 15):\n",
    "    knn = KNeighborsClassifier(n_neighbors=k).fit(train_X, train_y)\n",
    "    results.append({\n",
    "        'k': k,\n",
    "        'accuracy': accuracy_score(valid_y, knn.predict(valid_X))\n",
    "    })\n",
    "\n",
    "# Convert results to a pandas data frame\n",
    "results = pd.DataFrame(results)\n",
    "print(results)"
   ]
  },
  {
   "cell_type": "markdown",
   "id": "5cc86e91",
   "metadata": {},
   "source": [
    "The best k would be 3 would be the optimum choice with an accuracy of 97%"
   ]
  },
  {
   "cell_type": "code",
   "execution_count": 21,
   "id": "e16b4b6e",
   "metadata": {},
   "outputs": [
    {
     "name": "stdout",
     "output_type": "stream",
     "text": [
      "[0]\n",
      "Distances [[0.13305206 0.21034493 0.28783978]]\n",
      "Indices [[1792 1523 2730]]\n",
      "       zIncome    zCCAvg  zCD_Account   zFamily  zEducation  zMortgage  \\\n",
      "476  -0.463012 -0.660236    -0.251363 -1.221982    0.150053  -0.553391   \n",
      "332  -0.704658 -0.660236    -0.251363 -1.221982    0.150053  -0.553391   \n",
      "1015 -0.265302 -0.660236    -0.251363 -1.221982    0.150053  -0.553391   \n",
      "\n",
      "     Personal_Loan  \n",
      "476              0  \n",
      "332              0  \n",
      "1015             0  \n"
     ]
    }
   ],
   "source": [
    "#Use best k, k=3\n",
    "knn = KNeighborsClassifier(n_neighbors=3).fit(trainNorm[['zIncome', 'zCCAvg', 'zCD_Account', 'zFamily', 'zEducation', 'zMortgage']], trainNorm['Personal_Loan'])\n",
    "distances, indices = knn.kneighbors(newAccountNorm)\n",
    "print(knn.predict(newAccountNorm))\n",
    "print('Distances',distances)\n",
    "print('Indices', indices)\n",
    "print(trainNorm.iloc[indices[0], :])\n"
   ]
  },
  {
   "cell_type": "code",
   "execution_count": 22,
   "id": "ca638e34",
   "metadata": {},
   "outputs": [
    {
     "name": "stdout",
     "output_type": "stream",
     "text": [
      "[0]\n",
      "Distances [[0.17530724 0.21034493 0.21034493]]\n",
      "Indices [[1218 1191  348]]\n",
      "       zIncome    zCCAvg  zCD_Account   zFamily  zEducation  zMortgage  \\\n",
      "4030 -0.660722 -0.660236    -0.251363 -1.221982    0.150053  -0.553391   \n",
      "3955 -0.353173 -0.660236    -0.251363 -1.221982    0.150053  -0.553391   \n",
      "1175 -0.353173 -0.660236    -0.251363 -1.221982    0.150053  -0.553391   \n",
      "\n",
      "     Personal_Loan  \n",
      "4030             0  \n",
      "3955             0  \n",
      "1175             0  \n"
     ]
    }
   ],
   "source": [
    "#Try using knn for valid dataset with best k\n",
    "knn = KNeighborsClassifier(n_neighbors=3).fit(validNorm[['zIncome', 'zCCAvg', 'zCD_Account', 'zFamily', 'zEducation', 'zMortgage']], validNorm['Personal_Loan'])\n",
    "distances, indices = knn.kneighbors(newAccountNorm)\n",
    "print(knn.predict(newAccountNorm))\n",
    "print('Distances',distances)\n",
    "print('Indices', indices)\n",
    "print(validNorm.iloc[indices[0], :])"
   ]
  },
  {
   "cell_type": "markdown",
   "id": "c26a0215",
   "metadata": {},
   "source": [
    "# decision tree"
   ]
  },
  {
   "cell_type": "code",
   "execution_count": 23,
   "id": "c7d1cee1",
   "metadata": {},
   "outputs": [
    {
     "data": {
      "text/html": [
       "<div>\n",
       "<style scoped>\n",
       "    .dataframe tbody tr th:only-of-type {\n",
       "        vertical-align: middle;\n",
       "    }\n",
       "\n",
       "    .dataframe tbody tr th {\n",
       "        vertical-align: top;\n",
       "    }\n",
       "\n",
       "    .dataframe thead th {\n",
       "        text-align: right;\n",
       "    }\n",
       "</style>\n",
       "<table border=\"1\" class=\"dataframe\">\n",
       "  <thead>\n",
       "    <tr style=\"text-align: right;\">\n",
       "      <th></th>\n",
       "      <th>Age</th>\n",
       "      <th>Experience</th>\n",
       "      <th>Income</th>\n",
       "      <th>Family</th>\n",
       "      <th>CCAvg</th>\n",
       "      <th>Education</th>\n",
       "      <th>Mortgage</th>\n",
       "      <th>Personal Loan</th>\n",
       "      <th>Securities Account</th>\n",
       "      <th>CD Account</th>\n",
       "      <th>Online</th>\n",
       "      <th>CreditCard</th>\n",
       "    </tr>\n",
       "  </thead>\n",
       "  <tbody>\n",
       "    <tr>\n",
       "      <th>0</th>\n",
       "      <td>25</td>\n",
       "      <td>1</td>\n",
       "      <td>49</td>\n",
       "      <td>4</td>\n",
       "      <td>1.6</td>\n",
       "      <td>1</td>\n",
       "      <td>0</td>\n",
       "      <td>0</td>\n",
       "      <td>1</td>\n",
       "      <td>0</td>\n",
       "      <td>0</td>\n",
       "      <td>0</td>\n",
       "    </tr>\n",
       "    <tr>\n",
       "      <th>1</th>\n",
       "      <td>45</td>\n",
       "      <td>19</td>\n",
       "      <td>34</td>\n",
       "      <td>3</td>\n",
       "      <td>1.5</td>\n",
       "      <td>1</td>\n",
       "      <td>0</td>\n",
       "      <td>0</td>\n",
       "      <td>1</td>\n",
       "      <td>0</td>\n",
       "      <td>0</td>\n",
       "      <td>0</td>\n",
       "    </tr>\n",
       "    <tr>\n",
       "      <th>2</th>\n",
       "      <td>39</td>\n",
       "      <td>15</td>\n",
       "      <td>11</td>\n",
       "      <td>1</td>\n",
       "      <td>1.0</td>\n",
       "      <td>1</td>\n",
       "      <td>0</td>\n",
       "      <td>0</td>\n",
       "      <td>0</td>\n",
       "      <td>0</td>\n",
       "      <td>0</td>\n",
       "      <td>0</td>\n",
       "    </tr>\n",
       "    <tr>\n",
       "      <th>3</th>\n",
       "      <td>35</td>\n",
       "      <td>9</td>\n",
       "      <td>100</td>\n",
       "      <td>1</td>\n",
       "      <td>2.7</td>\n",
       "      <td>2</td>\n",
       "      <td>0</td>\n",
       "      <td>0</td>\n",
       "      <td>0</td>\n",
       "      <td>0</td>\n",
       "      <td>0</td>\n",
       "      <td>0</td>\n",
       "    </tr>\n",
       "    <tr>\n",
       "      <th>4</th>\n",
       "      <td>35</td>\n",
       "      <td>8</td>\n",
       "      <td>45</td>\n",
       "      <td>4</td>\n",
       "      <td>1.0</td>\n",
       "      <td>2</td>\n",
       "      <td>0</td>\n",
       "      <td>0</td>\n",
       "      <td>0</td>\n",
       "      <td>0</td>\n",
       "      <td>0</td>\n",
       "      <td>1</td>\n",
       "    </tr>\n",
       "  </tbody>\n",
       "</table>\n",
       "</div>"
      ],
      "text/plain": [
       "   Age  Experience  Income  Family  CCAvg  Education  Mortgage  Personal Loan  \\\n",
       "0   25           1      49       4    1.6          1         0              0   \n",
       "1   45          19      34       3    1.5          1         0              0   \n",
       "2   39          15      11       1    1.0          1         0              0   \n",
       "3   35           9     100       1    2.7          2         0              0   \n",
       "4   35           8      45       4    1.0          2         0              0   \n",
       "\n",
       "   Securities Account  CD Account  Online  CreditCard  \n",
       "0                   1           0       0           0  \n",
       "1                   1           0       0           0  \n",
       "2                   0           0       0           0  \n",
       "3                   0           0       0           0  \n",
       "4                   0           0       0           1  "
      ]
     },
     "execution_count": 23,
     "metadata": {},
     "output_type": "execute_result"
    }
   ],
   "source": [
    "#Load the dataset\n",
    "bank_df = pd.read_csv('UniversalBank.csv')\n",
    "bank_df.head()\n",
    "#Drop ID and Zipcode columns\n",
    "bank1_df=bank_df.drop(columns=['ZIP Code','ID'])\n",
    "bank1_df.head()"
   ]
  },
  {
   "cell_type": "code",
   "execution_count": 24,
   "id": "ce1baa77",
   "metadata": {},
   "outputs": [
    {
     "data": {
      "text/plain": [
       "Index(['Age', 'Experience', 'Income', 'Family', 'CCAvg', 'Education',\n",
       "       'Mortgage', 'Personal Loan', 'Securities Account', 'CD Account',\n",
       "       'Online', 'CreditCard'],\n",
       "      dtype='object')"
      ]
     },
     "execution_count": 24,
     "metadata": {},
     "output_type": "execute_result"
    }
   ],
   "source": [
    "bank1_df.columns"
   ]
  },
  {
   "cell_type": "code",
   "execution_count": 25,
   "id": "81be4b5e",
   "metadata": {},
   "outputs": [],
   "source": [
    "#Separate X and y variables\n",
    "predictors =['Age', 'Experience', 'Income', 'Family', 'CCAvg', 'Education',\n",
    "       'Mortgage', 'Personal Loan', 'Securities Account', 'CD Account', 'Online']\n",
    "outcome = 'CreditCard'\n",
    "\n",
    "\n",
    "#Partition\n",
    "X = bank1_df[predictors]\n",
    "y = bank1_df[outcome]\n",
    "train_X, valid_X, train_y, valid_y = train_test_split(X, y, test_size=0.4, random_state=1)"
   ]
  },
  {
   "cell_type": "code",
   "execution_count": 26,
   "id": "37a107b3",
   "metadata": {},
   "outputs": [
    {
     "name": "stdout",
     "output_type": "stream",
     "text": [
      "Confusion Matrix (Accuracy 0.7480)\n",
      "\n",
      "       Prediction\n",
      "Actual    0    1\n",
      "     0 2088   20\n",
      "     1  736  156\n"
     ]
    }
   ],
   "source": [
    "#Develop trees\n",
    "classTreeBank = DecisionTreeClassifier(random_state=0, max_depth=5)\n",
    "classTreeBank.fit(train_X, train_y) #First one is X (predictors) and the second one is Y (target)\n",
    "classificationSummary(train_y, classTreeBank.predict(train_X))"
   ]
  },
  {
   "cell_type": "code",
   "execution_count": 27,
   "id": "564322d2",
   "metadata": {},
   "outputs": [
    {
     "name": "stdout",
     "output_type": "stream",
     "text": [
      "Confusion Matrix (Accuracy 0.7370)\n",
      "\n",
      "       Prediction\n",
      "Actual    0    1\n",
      "     0 1386   36\n",
      "     1  490   88\n"
     ]
    }
   ],
   "source": [
    "#confusion matrix on validation data\n",
    "classificationSummary(valid_y, classTreeBank.predict(valid_X))"
   ]
  },
  {
   "cell_type": "code",
   "execution_count": 31,
   "id": "3f7ba196",
   "metadata": {
    "scrolled": true
   },
   "outputs": [
    {
     "name": "stdout",
     "output_type": "stream",
     "text": [
      "Small Classification Tree with Control Parameters\n"
     ]
    },
    {
     "data": {
      "image/png": "[encoded data removed]",
      "text/plain": [
       "<IPython.core.display.Image object>"
      ]
     },
     "execution_count": 31,
     "metadata": {},
     "output_type": "execute_result"
    }
   ],
   "source": [
    "# Display classification tree for training partition.\n",
    "print('Small Classification Tree with Control Parameters')\n",
    "plotDecisionTree(classTreeBank, feature_names=train_X.columns)"
   ]
  },
  {
   "cell_type": "markdown",
   "id": "d4f0d99b",
   "metadata": {},
   "source": [
    "# "
   ]
  },
  {
   "cell_type": "markdown",
   "id": "37732c7d",
   "metadata": {},
   "source": [
    "## question 1 ends"
   ]
  },
  {
   "cell_type": "markdown",
   "id": "c8b7daac",
   "metadata": {},
   "source": [
    "## question 2 starts ##"
   ]
  },
  {
   "cell_type": "code",
   "execution_count": 29,
   "id": "70e737c6",
   "metadata": {},
   "outputs": [],
   "source": [
    "%matplotlib inline\n",
    "\n",
    "from pathlib import Path\n",
    "\n",
    "import pandas as pd\n",
    "import numpy as np\n",
    "from sklearn.tree import DecisionTreeClassifier, DecisionTreeRegressor\n",
    "from sklearn.ensemble import RandomForestClassifier, GradientBoostingClassifier\n",
    "from sklearn.model_selection import train_test_split, cross_val_score, GridSearchCV\n",
    "import matplotlib.pylab as plt\n",
    "import dmba\n",
    "from dmba import plotDecisionTree, classificationSummary, regressionSummary\n"
   ]
  },
  {
   "cell_type": "code",
   "execution_count": 30,
   "id": "ebef9ca1",
   "metadata": {},
   "outputs": [
    {
     "ename": "FileNotFoundError",
     "evalue": "[Errno 2] No such file or directory: 'eBayAuctions.csv'",
     "output_type": "error",
     "traceback": [
      "\u001b[1;31m---------------------------------------------------------------------------\u001b[0m",
      "\u001b[1;31mFileNotFoundError\u001b[0m                         Traceback (most recent call last)",
      "\u001b[1;32m~\\AppData\\Local\\Temp\\ipykernel_23344\\844186575.py\u001b[0m in \u001b[0;36m<module>\u001b[1;34m\u001b[0m\n\u001b[0;32m      1\u001b[0m \u001b[1;31m#load the dataset\u001b[0m\u001b[1;33m\u001b[0m\u001b[1;33m\u001b[0m\u001b[0m\n\u001b[1;32m----> 2\u001b[1;33m \u001b[0mebay_df\u001b[0m \u001b[1;33m=\u001b[0m \u001b[0mpd\u001b[0m\u001b[1;33m.\u001b[0m\u001b[0mread_csv\u001b[0m\u001b[1;33m(\u001b[0m\u001b[1;34m'eBayAuctions.csv'\u001b[0m\u001b[1;33m)\u001b[0m\u001b[1;33m\u001b[0m\u001b[1;33m\u001b[0m\u001b[0m\n\u001b[0m",
      "\u001b[1;32m~\\anaconda3\\lib\\site-packages\\pandas\\util\\_decorators.py\u001b[0m in \u001b[0;36mwrapper\u001b[1;34m(*args, **kwargs)\u001b[0m\n\u001b[0;32m    309\u001b[0m                     \u001b[0mstacklevel\u001b[0m\u001b[1;33m=\u001b[0m\u001b[0mstacklevel\u001b[0m\u001b[1;33m,\u001b[0m\u001b[1;33m\u001b[0m\u001b[1;33m\u001b[0m\u001b[0m\n\u001b[0;32m    310\u001b[0m                 )\n\u001b[1;32m--> 311\u001b[1;33m             \u001b[1;32mreturn\u001b[0m \u001b[0mfunc\u001b[0m\u001b[1;33m(\u001b[0m\u001b[1;33m*\u001b[0m\u001b[0margs\u001b[0m\u001b[1;33m,\u001b[0m \u001b[1;33m**\u001b[0m\u001b[0mkwargs\u001b[0m\u001b[1;33m)\u001b[0m\u001b[1;33m\u001b[0m\u001b[1;33m\u001b[0m\u001b[0m\n\u001b[0m\u001b[0;32m    312\u001b[0m \u001b[1;33m\u001b[0m\u001b[0m\n\u001b[0;32m    313\u001b[0m         \u001b[1;32mreturn\u001b[0m \u001b[0mwrapper\u001b[0m\u001b[1;33m\u001b[0m\u001b[1;33m\u001b[0m\u001b[0m\n",
      "\u001b[1;32m~\\anaconda3\\lib\\site-packages\\pandas\\io\\parsers\\readers.py\u001b[0m in \u001b[0;36mread_csv\u001b[1;34m(filepath_or_buffer, sep, delimiter, header, names, index_col, usecols, squeeze, prefix, mangle_dupe_cols, dtype, engine, converters, true_values, false_values, skipinitialspace, skiprows, skipfooter, nrows, na_values, keep_default_na, na_filter, verbose, skip_blank_lines, parse_dates, infer_datetime_format, keep_date_col, date_parser, dayfirst, cache_dates, iterator, chunksize, compression, thousands, decimal, lineterminator, quotechar, quoting, doublequote, escapechar, comment, encoding, encoding_errors, dialect, error_bad_lines, warn_bad_lines, on_bad_lines, delim_whitespace, low_memory, memory_map, float_precision, storage_options)\u001b[0m\n\u001b[0;32m    676\u001b[0m     \u001b[0mkwds\u001b[0m\u001b[1;33m.\u001b[0m\u001b[0mupdate\u001b[0m\u001b[1;33m(\u001b[0m\u001b[0mkwds_defaults\u001b[0m\u001b[1;33m)\u001b[0m\u001b[1;33m\u001b[0m\u001b[1;33m\u001b[0m\u001b[0m\n\u001b[0;32m    677\u001b[0m \u001b[1;33m\u001b[0m\u001b[0m\n\u001b[1;32m--> 678\u001b[1;33m     \u001b[1;32mreturn\u001b[0m \u001b[0m_read\u001b[0m\u001b[1;33m(\u001b[0m\u001b[0mfilepath_or_buffer\u001b[0m\u001b[1;33m,\u001b[0m \u001b[0mkwds\u001b[0m\u001b[1;33m)\u001b[0m\u001b[1;33m\u001b[0m\u001b[1;33m\u001b[0m\u001b[0m\n\u001b[0m\u001b[0;32m    679\u001b[0m \u001b[1;33m\u001b[0m\u001b[0m\n\u001b[0;32m    680\u001b[0m \u001b[1;33m\u001b[0m\u001b[0m\n",
      "\u001b[1;32m~\\anaconda3\\lib\\site-packages\\pandas\\io\\parsers\\readers.py\u001b[0m in \u001b[0;36m_read\u001b[1;34m(filepath_or_buffer, kwds)\u001b[0m\n\u001b[0;32m    573\u001b[0m \u001b[1;33m\u001b[0m\u001b[0m\n\u001b[0;32m    574\u001b[0m     \u001b[1;31m# Create the parser.\u001b[0m\u001b[1;33m\u001b[0m\u001b[1;33m\u001b[0m\u001b[0m\n\u001b[1;32m--> 575\u001b[1;33m     \u001b[0mparser\u001b[0m \u001b[1;33m=\u001b[0m \u001b[0mTextFileReader\u001b[0m\u001b[1;33m(\u001b[0m\u001b[0mfilepath_or_buffer\u001b[0m\u001b[1;33m,\u001b[0m \u001b[1;33m**\u001b[0m\u001b[0mkwds\u001b[0m\u001b[1;33m)\u001b[0m\u001b[1;33m\u001b[0m\u001b[1;33m\u001b[0m\u001b[0m\n\u001b[0m\u001b[0;32m    576\u001b[0m \u001b[1;33m\u001b[0m\u001b[0m\n\u001b[0;32m    577\u001b[0m     \u001b[1;32mif\u001b[0m \u001b[0mchunksize\u001b[0m \u001b[1;32mor\u001b[0m \u001b[0miterator\u001b[0m\u001b[1;33m:\u001b[0m\u001b[1;33m\u001b[0m\u001b[1;33m\u001b[0m\u001b[0m\n",
      "\u001b[1;32m~\\anaconda3\\lib\\site-packages\\pandas\\io\\parsers\\readers.py\u001b[0m in \u001b[0;36m__init__\u001b[1;34m(self, f, engine, **kwds)\u001b[0m\n\u001b[0;32m    930\u001b[0m \u001b[1;33m\u001b[0m\u001b[0m\n\u001b[0;32m    931\u001b[0m         \u001b[0mself\u001b[0m\u001b[1;33m.\u001b[0m\u001b[0mhandles\u001b[0m\u001b[1;33m:\u001b[0m \u001b[0mIOHandles\u001b[0m \u001b[1;33m|\u001b[0m \u001b[1;32mNone\u001b[0m \u001b[1;33m=\u001b[0m \u001b[1;32mNone\u001b[0m\u001b[1;33m\u001b[0m\u001b[1;33m\u001b[0m\u001b[0m\n\u001b[1;32m--> 932\u001b[1;33m         \u001b[0mself\u001b[0m\u001b[1;33m.\u001b[0m\u001b[0m_engine\u001b[0m \u001b[1;33m=\u001b[0m \u001b[0mself\u001b[0m\u001b[1;33m.\u001b[0m\u001b[0m_make_engine\u001b[0m\u001b[1;33m(\u001b[0m\u001b[0mf\u001b[0m\u001b[1;33m,\u001b[0m \u001b[0mself\u001b[0m\u001b[1;33m.\u001b[0m\u001b[0mengine\u001b[0m\u001b[1;33m)\u001b[0m\u001b[1;33m\u001b[0m\u001b[1;33m\u001b[0m\u001b[0m\n\u001b[0m\u001b[0;32m    933\u001b[0m \u001b[1;33m\u001b[0m\u001b[0m\n\u001b[0;32m    934\u001b[0m     \u001b[1;32mdef\u001b[0m \u001b[0mclose\u001b[0m\u001b[1;33m(\u001b[0m\u001b[0mself\u001b[0m\u001b[1;33m)\u001b[0m\u001b[1;33m:\u001b[0m\u001b[1;33m\u001b[0m\u001b[1;33m\u001b[0m\u001b[0m\n",
      "\u001b[1;32m~\\anaconda3\\lib\\site-packages\\pandas\\io\\parsers\\readers.py\u001b[0m in \u001b[0;36m_make_engine\u001b[1;34m(self, f, engine)\u001b[0m\n\u001b[0;32m   1214\u001b[0m             \u001b[1;31m# \"Union[str, PathLike[str], ReadCsvBuffer[bytes], ReadCsvBuffer[str]]\"\u001b[0m\u001b[1;33m\u001b[0m\u001b[1;33m\u001b[0m\u001b[0m\n\u001b[0;32m   1215\u001b[0m             \u001b[1;31m# , \"str\", \"bool\", \"Any\", \"Any\", \"Any\", \"Any\", \"Any\"\u001b[0m\u001b[1;33m\u001b[0m\u001b[1;33m\u001b[0m\u001b[0m\n\u001b[1;32m-> 1216\u001b[1;33m             self.handles = get_handle(  # type: ignore[call-overload]\n\u001b[0m\u001b[0;32m   1217\u001b[0m                 \u001b[0mf\u001b[0m\u001b[1;33m,\u001b[0m\u001b[1;33m\u001b[0m\u001b[1;33m\u001b[0m\u001b[0m\n\u001b[0;32m   1218\u001b[0m                 \u001b[0mmode\u001b[0m\u001b[1;33m,\u001b[0m\u001b[1;33m\u001b[0m\u001b[1;33m\u001b[0m\u001b[0m\n",
      "\u001b[1;32m~\\anaconda3\\lib\\site-packages\\pandas\\io\\common.py\u001b[0m in \u001b[0;36mget_handle\u001b[1;34m(path_or_buf, mode, encoding, compression, memory_map, is_text, errors, storage_options)\u001b[0m\n\u001b[0;32m    784\u001b[0m         \u001b[1;32mif\u001b[0m \u001b[0mioargs\u001b[0m\u001b[1;33m.\u001b[0m\u001b[0mencoding\u001b[0m \u001b[1;32mand\u001b[0m \u001b[1;34m\"b\"\u001b[0m \u001b[1;32mnot\u001b[0m \u001b[1;32min\u001b[0m \u001b[0mioargs\u001b[0m\u001b[1;33m.\u001b[0m\u001b[0mmode\u001b[0m\u001b[1;33m:\u001b[0m\u001b[1;33m\u001b[0m\u001b[1;33m\u001b[0m\u001b[0m\n\u001b[0;32m    785\u001b[0m             \u001b[1;31m# Encoding\u001b[0m\u001b[1;33m\u001b[0m\u001b[1;33m\u001b[0m\u001b[0m\n\u001b[1;32m--> 786\u001b[1;33m             handle = open(\n\u001b[0m\u001b[0;32m    787\u001b[0m                 \u001b[0mhandle\u001b[0m\u001b[1;33m,\u001b[0m\u001b[1;33m\u001b[0m\u001b[1;33m\u001b[0m\u001b[0m\n\u001b[0;32m    788\u001b[0m                 \u001b[0mioargs\u001b[0m\u001b[1;33m.\u001b[0m\u001b[0mmode\u001b[0m\u001b[1;33m,\u001b[0m\u001b[1;33m\u001b[0m\u001b[1;33m\u001b[0m\u001b[0m\n",
      "\u001b[1;31mFileNotFoundError\u001b[0m: [Errno 2] No such file or directory: 'eBayAuctions.csv'"
     ]
    }
   ],
   "source": [
    "#load the dataset\n",
    "ebay_df = pd.read_csv('eBayAuctions.csv')"
   ]
  },
  {
   "cell_type": "code",
   "execution_count": null,
   "id": "f05a61fa",
   "metadata": {},
   "outputs": [],
   "source": [
    "ebay_df.head()"
   ]
  },
  {
   "cell_type": "code",
   "execution_count": null,
   "id": "63e0a05f",
   "metadata": {},
   "outputs": [],
   "source": [
    "ebay_df.shape"
   ]
  },
  {
   "cell_type": "code",
   "execution_count": null,
   "id": "f72dd98b",
   "metadata": {},
   "outputs": [],
   "source": [
    "ebay_df.columns"
   ]
  },
  {
   "cell_type": "code",
   "execution_count": null,
   "id": "8e5508ba",
   "metadata": {},
   "outputs": [],
   "source": [
    "ebay_df.dtypes"
   ]
  },
  {
   "cell_type": "markdown",
   "id": "9fd3a318",
   "metadata": {},
   "source": [
    "## using all predictors to create the classification tree, coding the text categories into numbers "
   ]
  },
  {
   "cell_type": "code",
   "execution_count": null,
   "id": "875988d3",
   "metadata": {},
   "outputs": [],
   "source": [
    "from sklearn.preprocessing import OrdinalEncoder\n",
    "\n",
    "# Extracting all columns except 'Competitive?'\n",
    "numerical_cols = ['sellerRating', 'Duration', 'ClosePrice', 'OpenPrice']\n",
    "categorical_cols = ['Category', 'currency', 'endDay']\n",
    "predictor_cols = numerical_cols + categorical_cols  # Define the order of columns for the final DataFrame\n",
    "\n",
    "# Copying the dataframe with only the categorical columns\n",
    "X_categorical = ebay_df[categorical_cols].copy()\n",
    "\n",
    "# Initialize the ordinal encoder\n",
    "ordinal_encoder = OrdinalEncoder()\n",
    "\n",
    "# Transform the categorical columns\n",
    "X_encoded = ordinal_encoder.fit_transform(X_categorical)\n",
    "\n",
    "# Create a DataFrame with encoded categorical columns and selected numerical columns\n",
    "df_numerical = ebay_df[numerical_cols]\n",
    "df_final = pd.concat([df_numerical, pd.DataFrame(X_encoded, columns=categorical_cols)], axis=1)\n",
    "\n",
    "# Add 'Competitive?' column to the end\n",
    "df_final['Competitive?'] = ebay_df['Competitive?']\n",
    "\n",
    "# Rearrange columns to place 'Competitive?' at the end\n",
    "df_final = df_final[predictor_cols + ['Competitive?']]\n",
    "\n",
    "df_final.head(5)\n"
   ]
  },
  {
   "cell_type": "markdown",
   "id": "41693a4f",
   "metadata": {},
   "source": [
    "## Seeing how the categories are coded "
   ]
  },
  {
   "cell_type": "code",
   "execution_count": null,
   "id": "de4e379d",
   "metadata": {},
   "outputs": [],
   "source": [
    "# Access the categories and their respective encoded values\n",
    "encoded_categories = ordinal_encoder.categories_\n",
    "for i, col in enumerate(categorical_cols):\n",
    "    print(f\"Column '{col}' categories and encoded values:\")\n",
    "    for j, category in enumerate(encoded_categories[i]):\n",
    "        print(f\"Category '{category}' is encoded as {j}\")\n",
    "    print()"
   ]
  },
  {
   "cell_type": "code",
   "execution_count": null,
   "id": "6dce8147",
   "metadata": {},
   "outputs": [],
   "source": [
    "df_final.columns"
   ]
  },
  {
   "cell_type": "code",
   "execution_count": null,
   "id": "9a6816eb",
   "metadata": {},
   "outputs": [],
   "source": [
    "df_final['Category'] = df_final['Category'].astype('category')\n",
    "df_final['currency'] = df_final['currency'].astype('category')\n",
    "df_final['endDay'] = df_final['endDay'].astype('category')\n",
    "df_final.dtypes"
   ]
  },
  {
   "cell_type": "markdown",
   "id": "73a5d9c7",
   "metadata": {},
   "source": [
    "## partitiong the data"
   ]
  },
  {
   "cell_type": "code",
   "execution_count": null,
   "id": "4ad6e110",
   "metadata": {},
   "outputs": [],
   "source": [
    "#Separate X and y variables\n",
    "predictors =['sellerRating', 'Duration', 'ClosePrice', 'OpenPrice', 'Category','currency', 'endDay']\n",
    "outcome = 'Competitive?'\n",
    "\n",
    "#Partition\n",
    "X = df_final[predictors]\n",
    "y = df_final[outcome]\n",
    "train_X, valid_X, train_y, valid_y = train_test_split(X, y, test_size=0.4, random_state=1)"
   ]
  },
  {
   "cell_type": "markdown",
   "id": "28efab57",
   "metadata": {},
   "source": [
    "## creating the tree with maxdepth = 7 and min_samples_split =50"
   ]
  },
  {
   "cell_type": "code",
   "execution_count": null,
   "id": "46c3bf3c",
   "metadata": {},
   "outputs": [],
   "source": [
    "classTree1 = DecisionTreeClassifier(random_state=0, max_depth=7,min_samples_split=50)\n",
    "classTree1.fit(train_X, train_y) #First one is X (predictors) and the second one is Y (target)\n",
    "classificationSummary(train_y, classTree1.predict(train_X))"
   ]
  },
  {
   "cell_type": "markdown",
   "id": "e8104d5a",
   "metadata": {},
   "source": [
    "## testing the tree on validation data "
   ]
  },
  {
   "cell_type": "code",
   "execution_count": null,
   "id": "03ea23da",
   "metadata": {},
   "outputs": [],
   "source": [
    "classificationSummary(valid_y, classTree1.predict(valid_X))"
   ]
  },
  {
   "cell_type": "markdown",
   "id": "f24f0507",
   "metadata": {},
   "source": [
    "## plotting decision on training data"
   ]
  },
  {
   "cell_type": "code",
   "execution_count": null,
   "id": "8de9c8c6",
   "metadata": {},
   "outputs": [],
   "source": [
    "plotDecisionTree(classTree1, feature_names=train_X.columns, class_names=classTree1.classes_)\n",
    "#the tree looks small here, i saved the image and viewed it separately, its readable this way"
   ]
  },
  {
   "cell_type": "markdown",
   "id": "2b18cc92",
   "metadata": {},
   "source": [
    "## observation\n",
    "1. the overall accuracy on the validation data is 83.4 %\n",
    "2. the accuracy of true positives is 349/(87+349) = 80.04 % (We are able to predict if the auction would be competive or not by 80% accuracy)"
   ]
  },
  {
   "cell_type": "markdown",
   "id": "2371dec1",
   "metadata": {},
   "source": [
    "## new auction - we will not know the closing price, thus removing it from our predictors"
   ]
  },
  {
   "cell_type": "code",
   "execution_count": null,
   "id": "6d04b2a0",
   "metadata": {},
   "outputs": [],
   "source": [
    "#Separate X and y variables\n",
    "predictors =['sellerRating', 'Duration', 'OpenPrice', 'Category','currency', 'endDay']\n",
    "outcome = 'Competitive?'\n",
    "\n",
    "#Partition\n",
    "X = df_final[predictors]\n",
    "y = df_final[outcome]\n",
    "train_X, valid_X, train_y, valid_y = train_test_split(X, y, test_size=0.4, random_state=1)"
   ]
  },
  {
   "cell_type": "markdown",
   "id": "8bc2136a",
   "metadata": {},
   "source": [
    "## creating the tree with maxdepth = 7 and min_samples_split =50¶"
   ]
  },
  {
   "cell_type": "code",
   "execution_count": null,
   "id": "0ad80943",
   "metadata": {},
   "outputs": [],
   "source": [
    "classTree2 = DecisionTreeClassifier(random_state=0, max_depth=7,min_samples_split=50)\n",
    "classTree2.fit(train_X, train_y) #First one is X (predictors) and the second one is Y (target)\n",
    "classificationSummary(train_y, classTree2.predict(train_X))"
   ]
  },
  {
   "cell_type": "markdown",
   "id": "b72a44e9",
   "metadata": {},
   "source": [
    "## testing the tree on validation data (new auction)"
   ]
  },
  {
   "cell_type": "code",
   "execution_count": null,
   "id": "5269ac77",
   "metadata": {},
   "outputs": [],
   "source": [
    "classificationSummary(valid_y, classTree2.predict(valid_X))"
   ]
  },
  {
   "cell_type": "code",
   "execution_count": null,
   "id": "df4a9e98",
   "metadata": {},
   "outputs": [],
   "source": [
    "plotDecisionTree(classTree2, feature_names=train_X.columns, class_names=classTree2.classes_)\n",
    "#the tree looks small here, i saved the image and viewed it separately, its readable this way"
   ]
  },
  {
   "cell_type": "markdown",
   "id": "d4af8c0d",
   "metadata": {},
   "source": [
    "## Note: The overall accuracy dropped from 83% to 70% without the closingPrice variable."
   ]
  },
  {
   "cell_type": "markdown",
   "id": "6ae71440",
   "metadata": {},
   "source": [
    "## question 2 ends"
   ]
  },
  {
   "cell_type": "code",
   "execution_count": null,
   "id": "dc8294b5",
   "metadata": {},
   "outputs": [],
   "source": []
  }
 ],
 "metadata": {
  "kernelspec": {
   "display_name": "Python 3 (ipykernel)",
   "language": "python",
   "name": "python3"
  },
  "language_info": {
   "codemirror_mode": {
    "name": "ipython",
    "version": 3
   },
   "file_extension": ".py",
   "mimetype": "text/x-python",
   "name": "python",
   "nbconvert_exporter": "python",
   "pygments_lexer": "ipython3",
   "version": "3.9.13"
  }
 },
 "nbformat": 4,
 "nbformat_minor": 5
}
